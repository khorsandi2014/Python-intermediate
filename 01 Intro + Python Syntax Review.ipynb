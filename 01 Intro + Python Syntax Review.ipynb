{
  "cells": [
    {
      "cell_type": "markdown",
      "metadata": {
        "collapsed": true,
        "id": "X5nGsbAhNUFt"
      },
      "source": [
        "## Intermediate Python\n",
        "Ray Khorsandi\n",
        "ray.khorsandi@gmail.com\n",
        "\n",
        "\n"
      ]
    },
    {
      "cell_type": "markdown",
      "metadata": {
        "id": "dVlMGdcLNUF2"
      },
      "source": [
        "# Intro\n",
        "* name\n",
        "* office\n",
        "* title, what do you do \n",
        "* what do you expect to get out of the course\n",
        "* your programming background\n",
        "* fun fact about yourself or TV show you are binge watching"
      ]
    },
    {
      "cell_type": "markdown",
      "metadata": {
        "id": "pk6QFR_YNUF3"
      },
      "source": [
        "# Before we begin, be sure you have Python 3 installed!\n",
        "1. install Python 3 if you have not already\n",
        " * go to https://www.python.org/downloads/\n",
        " * Macs have 2.7.X installed by default–it’s OK to have Python 2 and 3 co-resident\n",
        "1. also install Jupyter\n",
        "  * Mac: __`sudo pip3 install jupyter`__\n",
        "  * this will allow you to run/edit Jupyter notebooks\n",
        "  * if you're having trouble installing Jupyter, or prefer not to, Microsoft VS Code will let you view/run Jupyter notebooks locally\n"
      ]
    },
    {
      "cell_type": "markdown",
      "metadata": {
        "id": "MBQMuKyUNUF4"
      },
      "source": [
        "# Python Syntax Review"
      ]
    },
    {
      "cell_type": "markdown",
      "metadata": {
        "id": "B4vekP72NUF4"
      },
      "source": [
        "## *Dynamic* typing, no declarations"
      ]
    },
    {
      "cell_type": "code",
      "execution_count": null,
      "metadata": {
        "id": "V_wRLk0CNUF6"
      },
      "outputs": [],
      "source": [
        "x = 3.9\n",
        "print(x)\n",
        "x = \"Python\"\n",
        "print(x)"
      ]
    },
    {
      "cell_type": "markdown",
      "metadata": {
        "id": "c7EZ3lEhNUF_"
      },
      "source": [
        "## ...but strongly typed"
      ]
    },
    {
      "cell_type": "code",
      "execution_count": null,
      "metadata": {
        "id": "c3nELT8hNUGA"
      },
      "outputs": [],
      "source": [
        "x = 'hello'\n",
        "y = x + 1\n",
        "y"
      ]
    },
    {
      "cell_type": "code",
      "execution_count": null,
      "metadata": {
        "id": "BoedY6oiNUGD"
      },
      "outputs": [],
      "source": [
        "def func(arg):\n",
        "    return arg + 1\n",
        "\n",
        "print(func(2))\n",
        "print(func('hi'))"
      ]
    },
    {
      "cell_type": "markdown",
      "metadata": {
        "id": "Wo6B5QplNUGD"
      },
      "source": [
        "## if/elif/else"
      ]
    },
    {
      "cell_type": "code",
      "execution_count": null,
      "metadata": {
        "id": "A7Km-cxmNUGE"
      },
      "outputs": [],
      "source": [
        "x = 1\n",
        "\n",
        "if x == 1: # no parens needed around expression\n",
        "    print('hey, x is 1')\n",
        "    print('foo')\n",
        "elif x < 10:\n",
        "    print('x is less than 10 and not 1')\n",
        "else:\n",
        "    print('x >= 10')\n",
        "        "
      ]
    },
    {
      "cell_type": "markdown",
      "metadata": {
        "id": "3bdiAXQ7NUGF"
      },
      "source": [
        "## Functions"
      ]
    },
    {
      "cell_type": "code",
      "execution_count": null,
      "metadata": {
        "id": "EMr-HmUINUGF"
      },
      "outputs": [],
      "source": [
        "def myfunc(x):\n",
        "    print('do something', x)\n",
        "    if x == 1:\n",
        "        return True\n",
        "    else:\n",
        "        return 'abc'\n",
        "    \n",
        "print(myfunc(2))"
      ]
    },
    {
      "cell_type": "markdown",
      "metadata": {
        "id": "FeWfLojCNUGF"
      },
      "source": [
        "## ...functions return __`None`__ if return not invoked"
      ]
    },
    {
      "cell_type": "code",
      "execution_count": null,
      "metadata": {
        "scrolled": true,
        "id": "z2YqdYG_NUGG"
      },
      "outputs": [],
      "source": [
        "def myfunc(x):\n",
        "    print('do something', x)\n",
        "\n",
        "print(myfunc(35))"
      ]
    },
    {
      "cell_type": "markdown",
      "metadata": {
        "id": "HviCjIUoNUGG"
      },
      "source": [
        "## What is __`None`__?\n",
        "* it acts like __`False`__, but it's a different object"
      ]
    },
    {
      "cell_type": "code",
      "execution_count": null,
      "metadata": {
        "id": "a1glOriCNUGH"
      },
      "outputs": [],
      "source": [
        "retval = myfunc(2)\n",
        "if retval:\n",
        "    print('True branch of if')\n",
        "else:\n",
        "    print('False branch of if')"
      ]
    },
    {
      "cell_type": "code",
      "execution_count": null,
      "metadata": {
        "id": "mK55hFWhNUGH"
      },
      "outputs": [],
      "source": [
        "if retval is None:\n",
        "    print('preferred over retval == None')\n",
        "if None is False:\n",
        "    print('no!')\n",
        "id(None), id(False)"
      ]
    },
    {
      "cell_type": "markdown",
      "metadata": {
        "id": "ZmpPU7UpNUGH"
      },
      "source": [
        "## Two types of __`for`__ loops\n",
        "* iterating through a numeric range\n",
        "* iterating through a container"
      ]
    },
    {
      "cell_type": "code",
      "execution_count": null,
      "metadata": {
        "id": "en3gWjcyNUGH"
      },
      "outputs": [],
      "source": [
        "for num in range(25):\n",
        "    print(num, end=' ')"
      ]
    },
    {
      "cell_type": "code",
      "execution_count": null,
      "metadata": {
        "id": "qPv3_dzsNUGI"
      },
      "outputs": [],
      "source": [
        "mylist = 'small medium large'.split()\n",
        "for size in mylist:\n",
        "    print(size)"
      ]
    },
    {
      "cell_type": "markdown",
      "metadata": {
        "id": "ErMv4v_UNUGI"
      },
      "source": [
        "## Scope \n",
        "* Python is _NOT_ block scoped"
      ]
    },
    {
      "cell_type": "code",
      "execution_count": null,
      "metadata": {
        "id": "U-hqCXZ5NUGI"
      },
      "outputs": [],
      "source": [
        "if True:\n",
        "    x = 'global x' # x will persist outside this block\n",
        "\n",
        "print(\"outside the block, x =\", x)\n",
        "\n",
        "def func():\n",
        "    print(\"---> in func\")\n",
        "    x = 'func x' # declare var inside function\n",
        "    print(\"x =\", x)\n",
        "    d = locals()\n",
        "    print(\"local x =\", d['x'])\n",
        "    d = globals()\n",
        "    print(\"global x =\", d['x'])\n",
        "    print(\"---> leaving func\")\n",
        "\n",
        "func()\n",
        "\n",
        "print(\"in main, after func call, x =\", x)\n",
        "\n",
        "def func():\n",
        "    print(\"---> inside second func\")\n",
        "    # can access global variables here\n",
        "    # print(\"x =\", x)\n",
        "    # ...but to change them, we need to bind\n",
        "    # the name 'x' to the global var instead\n",
        "    # of a new local var...\n",
        "    global x\n",
        "    x = 'new global x'\n",
        "    print(\"x =\", x)\n",
        "    print(\"---> leaving second func, x =\", x)\n",
        "\n",
        "func()\n",
        "print(\"in main, after second func call, x =\", x)"
      ]
    },
    {
      "cell_type": "markdown",
      "metadata": {
        "id": "0thgfMnTNUGK"
      },
      "source": [
        "## Modules\n",
        "* just files of Python code\n",
        "* export variables, functions, and/or classes"
      ]
    },
    {
      "cell_type": "code",
      "execution_count": null,
      "metadata": {
        "id": "w23-zHOSNUGK"
      },
      "outputs": [],
      "source": [
        "# this code lives in mymodule.py\n",
        "def dummy():\n",
        "    return 45\n",
        "   \n",
        "public_data = \"public stuff!\"\n",
        "_private_data = \"private stuff!\"\n",
        "print('__name__ =', __name__) # \"dunder\"\n",
        "\n",
        "# If this code is being *run*, then __name__ will be '__main__'\n",
        "if __name__ == '__main__':\n",
        "    # test dummy\n",
        "    if dummy() == 45:\n",
        "        print('success')"
      ]
    },
    {
      "cell_type": "code",
      "execution_count": null,
      "metadata": {
        "scrolled": true,
        "id": "BYDxNLvyNUGL"
      },
      "outputs": [],
      "source": [
        "!python3 mymodule.py\n",
        "# The above runs a command in the shell, outside of the notebook"
      ]
    },
    {
      "cell_type": "code",
      "execution_count": null,
      "metadata": {
        "id": "Em6xUCJsNUGL"
      },
      "outputs": [],
      "source": [
        "import mymodule\n",
        "mymodule.dummy() # must preface identifiers with module name"
      ]
    },
    {
      "cell_type": "code",
      "execution_count": null,
      "metadata": {
        "id": "4t8T6qQwNUGL"
      },
      "outputs": [],
      "source": [
        "dir()"
      ]
    },
    {
      "cell_type": "code",
      "execution_count": null,
      "metadata": {
        "id": "SWBW7eoqNUGM"
      },
      "outputs": [],
      "source": [
        "mymodule._private_data, mymodule.public_data"
      ]
    },
    {
      "cell_type": "code",
      "execution_count": null,
      "metadata": {
        "scrolled": true,
        "id": "On4gHvs6NUGM"
      },
      "outputs": [],
      "source": [
        "from mymodule import public_data as thismodule_data\n",
        "dir()"
      ]
    },
    {
      "cell_type": "code",
      "execution_count": null,
      "metadata": {
        "id": "KvDc1SZANUGM"
      },
      "outputs": [],
      "source": [
        "import sys\n",
        "sys.path.insert(0, '/salesforce/specific/dir')\n",
        "sys.path"
      ]
    },
    {
      "cell_type": "markdown",
      "metadata": {
        "id": "QRGdyf60NUGM"
      },
      "source": [
        "## Regular Expressions (regex)"
      ]
    },
    {
      "cell_type": "code",
      "execution_count": null,
      "metadata": {
        "id": "RbkI2MoPNUGM"
      },
      "outputs": [],
      "source": [
        "import re \n",
        "if re.match('a.*b', 'alphabet'):\n",
        "    print('match found!')"
      ]
    },
    {
      "cell_type": "code",
      "execution_count": null,
      "metadata": {
        "id": "Xa9q8hgdNUGM"
      },
      "outputs": [],
      "source": [
        "# match() only matches at beginning of string\n",
        "if re.match('l.*b', 'alphabet'):\n",
        "    print('match found!')"
      ]
    },
    {
      "cell_type": "code",
      "execution_count": null,
      "metadata": {
        "id": "tZQics9gNUGN"
      },
      "outputs": [],
      "source": [
        "o = re.search('l.*e', 'alphabet')\n",
        "if o:\n",
        "    print('match found!')"
      ]
    },
    {
      "cell_type": "code",
      "execution_count": null,
      "metadata": {
        "id": "j3EaP3x9NUGN"
      },
      "outputs": [],
      "source": [
        "o.re.pattern, o.string"
      ]
    },
    {
      "cell_type": "code",
      "execution_count": null,
      "metadata": {
        "id": "tKD15IFhNUGN"
      },
      "outputs": [],
      "source": [
        "o.start(), o.end()"
      ]
    },
    {
      "cell_type": "code",
      "execution_count": null,
      "metadata": {
        "id": "eu58C_l3NUGN"
      },
      "outputs": [],
      "source": [
        "o.string[o.start():o.end()]"
      ]
    },
    {
      "cell_type": "code",
      "execution_count": null,
      "metadata": {
        "id": "DIx160bZNUGO"
      },
      "outputs": [],
      "source": [
        "!cat poem.txt"
      ]
    },
    {
      "cell_type": "code",
      "execution_count": null,
      "metadata": {
        "id": "nPKh1XPlNUGO"
      },
      "outputs": [],
      "source": [
        "import re\n",
        "linenum = 0\n",
        "for line in open('poem.txt'):\n",
        "    linenum += 1\n",
        "    if re.search('the', line):\n",
        "        print(f\"{linenum}: {re.sub('the', '---', line)}\", end='')"
      ]
    },
    {
      "cell_type": "markdown",
      "metadata": {
        "id": "JaCuL_5nNUGO"
      },
      "source": [
        "* let's write a function which takes a word as an argument and outputs the plural of that word\n",
        "* the program should follow these rules:\n",
        "  * if the word ends in 's', 'x', or 'z', the plural adds 'es', e.g., ax => axes, loss => losses\n",
        "  * if the word ends in an 'h', which is not preceded by a vowel or 'd', 'g', 'k', 'p', 'r', or 't', the plural adds 'es', e.g., moth => moths, but match => matches\n",
        "  * if the word ends in a 'y' which is not preceded by a vowel, then the plural strips the 'y' and adds 'ies', e.g., baby => babies, but boy => boys\n",
        "  * otherwise just add 's'"
      ]
    },
    {
      "cell_type": "code",
      "execution_count": null,
      "metadata": {
        "id": "WRFOpX8RNUGO"
      },
      "outputs": [],
      "source": [
        "import re\n",
        "\n",
        "def pluralize(noun):\n",
        "    if re.search('[sxz]$', noun):\n",
        "        return noun + 'es'\n",
        "    elif re.search('[^aeioudgkprt]h$', noun):\n",
        "        return noun + 'es'\n",
        "    elif re.search('[^aeiou]y$', noun):\n",
        "        return re.sub('y$', 'ies', noun)\n",
        "    else:\n",
        "        return noun + 's'"
      ]
    },
    {
      "cell_type": "markdown",
      "metadata": {
        "id": "60CRLTirNUGP"
      },
      "source": [
        "# Python Datatype Overview"
      ]
    },
    {
      "cell_type": "markdown",
      "metadata": {
        "id": "bwJPT7nnNUGP"
      },
      "source": [
        "## Strings\n",
        "* can use single or double quotes\n",
        "* triple quotes (single or double) allow multi-line strings"
      ]
    },
    {
      "cell_type": "code",
      "execution_count": null,
      "metadata": {
        "id": "CXMSVUFsNUGP"
      },
      "outputs": [],
      "source": [
        "s = \"The embedded apostrophe isn't a problem!\"\n",
        "print(s)\n",
        "s = 'Nor are embedded \"quotes\"'\n",
        "print(s)\n",
        "s = \"This string is \\\"more difficult\\\" to read\"\n",
        "print(s)"
      ]
    },
    {
      "cell_type": "code",
      "execution_count": null,
      "metadata": {
        "id": "uoLuRAUrNUGP"
      },
      "outputs": [],
      "source": [
        "s = '''A man,\n",
        "a plan, \n",
        "a canal: Panama'''\n",
        "s"
      ]
    },
    {
      "cell_type": "code",
      "execution_count": null,
      "metadata": {
        "id": "C9Mn072qNUGP"
      },
      "outputs": [],
      "source": [
        "print(s)"
      ]
    },
    {
      "cell_type": "markdown",
      "metadata": {
        "id": "u_Dczwh0NUGP"
      },
      "source": [
        "## Lists\n",
        "* ordered\n",
        "* comma-separated values in []\n",
        "* types can be mixed, but typically homogeneous\n",
        "* append(), extend(), pop(), remove()\n",
        "* clear(), copy(), sort(), reverse()\n",
        "* count(), index()"
      ]
    },
    {
      "cell_type": "code",
      "execution_count": null,
      "metadata": {
        "id": "1oN_6plbNUGP"
      },
      "outputs": [],
      "source": [
        "years = [1215, 1620, 1812, 1941]\n",
        "weird_list = [1, 'two', (3, 4), False]\n",
        "years[1], weird_list[2]"
      ]
    },
    {
      "cell_type": "markdown",
      "metadata": {
        "id": "kul1mUbNNUGQ"
      },
      "source": [
        "## Tuples\n",
        "* immutable\n",
        "* generally imply some structure\n",
        "* one tuple generally describes one object (person, building, country, etc.)\n",
        "* parens not required when declaring"
      ]
    },
    {
      "cell_type": "code",
      "execution_count": null,
      "metadata": {
        "id": "XFTQmGMmNUGQ"
      },
      "outputs": [],
      "source": [
        "print(t)\n",
        "t[1] = 'Montana'"
      ]
    },
    {
      "cell_type": "code",
      "execution_count": null,
      "metadata": {
        "id": "7rRTqzgvNUGQ"
      },
      "outputs": [],
      "source": [
        "# empty tuple\n",
        "t = ()\n",
        "print(t)\n",
        "# singleton tuple\n",
        "t = 1,\n",
        "print(t)"
      ]
    },
    {
      "cell_type": "code",
      "execution_count": null,
      "metadata": {
        "id": "QRJ8ZAZRNUGQ"
      },
      "outputs": [],
      "source": [
        "# use case for a singleton tuple: concatenation\n",
        "t + (2,)"
      ]
    },
    {
      "cell_type": "code",
      "execution_count": null,
      "metadata": {
        "id": "ECt96KUDNUGQ"
      },
      "outputs": [],
      "source": [
        "# another use case for singleton tuple:\n",
        "# enables you to pass a single value to a function which takes an iterable\n",
        "def func(iter):\n",
        "    for item in iter:\n",
        "        print(item, end=' ')\n",
        "    print()\n",
        "        \n",
        "func('hello')\n",
        "func((9,))\n",
        "func(9)"
      ]
    },
    {
      "cell_type": "markdown",
      "metadata": {
        "id": "ykkU2672NUGR"
      },
      "source": [
        "## Sets\n",
        "* unordered\n",
        "* no duplicates"
      ]
    },
    {
      "cell_type": "code",
      "execution_count": null,
      "metadata": {
        "id": "Nd-XtVtCNUGR"
      },
      "outputs": [],
      "source": [
        "t = set()\n",
        "type(t)"
      ]
    },
    {
      "cell_type": "code",
      "execution_count": null,
      "metadata": {
        "id": "3olQgcstNUGS"
      },
      "outputs": [],
      "source": [
        "even = { 2, 4, 6 }\n",
        "print(even)\n",
        "even.add(8)\n",
        "even.add(2)\n",
        "print(even)"
      ]
    },
    {
      "cell_type": "code",
      "execution_count": null,
      "metadata": {
        "id": "Wb61_oe9NUGS"
      },
      "outputs": [],
      "source": [
        "prime = set([int(x) for x in '2357'])\n",
        "print(prime)\n",
        "print('all numbers =', prime | even)\n",
        "print('even primes =', prime & even)\n"
      ]
    },
    {
      "cell_type": "markdown",
      "metadata": {
        "id": "QHIuTL6hNUGS"
      },
      "source": [
        "## Dictionaries\n",
        "* unordered sequence of key/value pairs\n",
        "* associative array, hash, etc."
      ]
    },
    {
      "cell_type": "code",
      "execution_count": null,
      "metadata": {
        "id": "4pjM4hIzNUGS"
      },
      "outputs": [],
      "source": [
        "d = { 'red': 0, 'blue': 1, 'green': 2 }\n",
        "d['blue'] = 9\n",
        "d['yellow'] = -1\n",
        "print(d)"
      ]
    },
    {
      "cell_type": "code",
      "execution_count": null,
      "metadata": {
        "id": "bPPFWX6BNUGT"
      },
      "outputs": [],
      "source": [
        "d = {}\n",
        "d['tall'] = 12\n",
        "d['grande'] = 16\n",
        "d['venti'] = 20\n",
        "print(d)"
      ]
    },
    {
      "cell_type": "code",
      "execution_count": null,
      "metadata": {
        "id": "jp8Arqz8NUGT"
      },
      "outputs": [],
      "source": [
        "# keys() function is a view, which is dynamic\n",
        "#keys = d.keys()\n",
        "#Python2_keys = list(d.keys())\n",
        "# a snapshot of the keys() gives us a static list\n",
        "print('keys are', d.keys())\n",
        "print('values are', d.values())\n",
        "print('items are', d.items())"
      ]
    },
    {
      "cell_type": "code",
      "execution_count": null,
      "metadata": {
        "id": "Te-Of_QDNUGT"
      },
      "outputs": [],
      "source": [
        "print(keys)"
      ]
    },
    {
      "cell_type": "code",
      "execution_count": null,
      "metadata": {
        "id": "_jKQDbwnNUGT"
      },
      "outputs": [],
      "source": [
        "# now add to the dict...\n",
        "d['trenta'] = 31\n",
        "keys"
      ]
    }
  ],
  "metadata": {
    "celltoolbar": "Slideshow",
    "kernelspec": {
      "display_name": "Python 3 (ipykernel)",
      "language": "python",
      "name": "python3"
    },
    "language_info": {
      "codemirror_mode": {
        "name": "ipython",
        "version": 3
      },
      "file_extension": ".py",
      "mimetype": "text/x-python",
      "name": "python",
      "nbconvert_exporter": "python",
      "pygments_lexer": "ipython3",
      "version": "3.9.7"
    },
    "colab": {
      "name": "01 Intro + Python Syntax Review.ipynb",
      "provenance": []
    }
  },
  "nbformat": 4,
  "nbformat_minor": 0
}